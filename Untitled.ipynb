{
 "cells": [
  {
   "cell_type": "code",
   "execution_count": 1,
   "id": "c314910b-65b2-4f1b-b039-3b5d28a1fe61",
   "metadata": {},
   "outputs": [
    {
     "name": "stdout",
     "output_type": "stream",
     "text": [
      "diff.astextplain.textconv=astextplain\n",
      "filter.lfs.clean=git-lfs clean -- %f\n",
      "filter.lfs.smudge=git-lfs smudge -- %f\n",
      "filter.lfs.process=git-lfs filter-process\n",
      "filter.lfs.required=true\n",
      "http.sslbackend=schannel\n",
      "core.autocrlf=true\n",
      "core.fscache=true\n",
      "core.symlinks=false\n",
      "pull.rebase=false\n",
      "credential.helper=manager\n",
      "credential.https://dev.azure.com.usehttppath=true\n",
      "init.defaultbranch=master\n",
      "user.name=Gaurav Pandey\n",
      "user.email=gauravpandey.happy14@gmail.com\n",
      "filter.lfs.clean=git-lfs clean -- %f\n",
      "filter.lfs.smudge=git-lfs smudge -- %f\n",
      "filter.lfs.process=git-lfs filter-process\n",
      "filter.lfs.required=true\n",
      "core.repositoryformatversion=0\n",
      "core.filemode=false\n",
      "core.bare=false\n",
      "core.logallrefupdates=true\n",
      "core.symlinks=false\n",
      "core.ignorecase=true\n",
      "remote.origin.url=https://github.com/Bittu1402/spotify_data_analysis.git\n",
      "remote.origin.fetch=+refs/heads/*:refs/remotes/origin/*\n"
     ]
    }
   ],
   "source": [
    "!git config --list"
   ]
  },
  {
   "cell_type": "code",
   "execution_count": null,
   "id": "b1237927-a5f0-44aa-a8f0-48e7cc8451e8",
   "metadata": {},
   "outputs": [],
   "source": []
  }
 ],
 "metadata": {
  "kernelspec": {
   "display_name": "Python 3 (ipykernel)",
   "language": "python",
   "name": "python3"
  },
  "language_info": {
   "codemirror_mode": {
    "name": "ipython",
    "version": 3
   },
   "file_extension": ".py",
   "mimetype": "text/x-python",
   "name": "python",
   "nbconvert_exporter": "python",
   "pygments_lexer": "ipython3",
   "version": "3.12.10"
  }
 },
 "nbformat": 4,
 "nbformat_minor": 5
}
